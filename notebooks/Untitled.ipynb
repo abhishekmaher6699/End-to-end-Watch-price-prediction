{
 "cells": [
  {
   "cell_type": "code",
   "execution_count": 41,
   "id": "771ec964",
   "metadata": {},
   "outputs": [
    {
     "name": "stdout",
     "output_type": "stream",
     "text": [
      "Requirement already satisfied: scikit-learn==1.5.2 in c:\\users\\admin\\anaconda3\\lib\\site-packages (1.5.2)\n",
      "Requirement already satisfied: numpy>=1.19.5 in c:\\users\\admin\\anaconda3\\lib\\site-packages (from scikit-learn==1.5.2) (1.25.2)\n",
      "Requirement already satisfied: scipy>=1.6.0 in c:\\users\\admin\\anaconda3\\lib\\site-packages (from scikit-learn==1.5.2) (1.11.2)\n",
      "Requirement already satisfied: joblib>=1.2.0 in c:\\users\\admin\\anaconda3\\lib\\site-packages (from scikit-learn==1.5.2) (1.3.2)\n",
      "Requirement already satisfied: threadpoolctl>=3.1.0 in c:\\users\\admin\\anaconda3\\lib\\site-packages (from scikit-learn==1.5.2) (3.2.0)\n"
     ]
    }
   ],
   "source": [
    "# import os\n",
    "\n",
    "# # Specify the directory\n",
    "# directory = \"../artifacts/models/columns.pkl\"\n",
    "\n",
    "# items = os.listdir(directory)\n",
    "\n",
    "# print(\"Files and folders in the directory:\")\n",
    "# for item in items:\n",
    "#     print(item)\n",
    "!pip install --upgrade scikit-learn==1.5.2"
   ]
  },
  {
   "cell_type": "code",
   "execution_count": 17,
   "id": "67a018ad",
   "metadata": {},
   "outputs": [
    {
     "name": "stdout",
     "output_type": "stream",
     "text": [
      "1.5.2\n"
     ]
    }
   ],
   "source": [
    "import sklearn\n",
    "print(sklearn.__version__)"
   ]
  },
  {
   "cell_type": "code",
   "execution_count": 18,
   "id": "8c9a2361",
   "metadata": {},
   "outputs": [],
   "source": [
    "import pickle\n",
    "import sklearn"
   ]
  },
  {
   "cell_type": "code",
   "execution_count": 19,
   "id": "b10e48a3",
   "metadata": {
    "scrolled": true
   },
   "outputs": [],
   "source": [
    "with open(\"../artifacts/models/columns.pkl\", 'rb') as f:\n",
    "    cols = pickle.load(f)"
   ]
  },
  {
   "cell_type": "code",
   "execution_count": 9,
   "id": "bade1d36",
   "metadata": {},
   "outputs": [
    {
     "data": {
      "text/plain": [
       "45"
      ]
     },
     "execution_count": 9,
     "metadata": {},
     "output_type": "execute_result"
    }
   ],
   "source": [
    "len(cols)"
   ]
  },
  {
   "cell_type": "code",
   "execution_count": 20,
   "id": "1e93fd58",
   "metadata": {},
   "outputs": [],
   "source": [
    "import pandas as pd\n",
    "import numpy as np"
   ]
  },
  {
   "cell_type": "code",
   "execution_count": 13,
   "id": "59cd751d",
   "metadata": {},
   "outputs": [],
   "source": [
    "df = pd.read_csv(\"../artifacts/data/processed/test.csv\")"
   ]
  },
  {
   "cell_type": "code",
   "execution_count": 30,
   "id": "b527c2bf",
   "metadata": {},
   "outputs": [
    {
     "data": {
      "text/plain": [
       "array(['Maurice Lacroix', 'Automatic', 39.0, 11.0, 'Round', 'Steel',\n",
       "       'Sapphire Crystal', 'Steel', 'Folding', 'Men', 200.0, 2.0,\n",
       "       'Switzerland', 38.0, 26.0, 0, 'No Bezel', 0, 28800.0, 'No coating',\n",
       "       1, 1, 0, 0, 0, 0, 0, 0, 0, 0, 0, 0, 0, 0, 0, 0, 0, 0, 0, 0, 0, 0,\n",
       "       0, 1, 0], dtype=object)"
      ]
     },
     "execution_count": 30,
     "metadata": {},
     "output_type": "execute_result"
    }
   ],
   "source": [
    "df.drop('price', axis=1).iloc[99].values"
   ]
  },
  {
   "cell_type": "code",
   "execution_count": 26,
   "id": "030b5fc8",
   "metadata": {},
   "outputs": [
    {
     "data": {
      "text/plain": [
       "994"
      ]
     },
     "execution_count": 26,
     "metadata": {},
     "output_type": "execute_result"
    }
   ],
   "source": [
    "np.random.randint(1, 3000)"
   ]
  },
  {
   "cell_type": "code",
   "execution_count": 12,
   "id": "b7a9b997",
   "metadata": {},
   "outputs": [],
   "source": [
    "test_input = pd.DataFrame([['Maurice Lacroix', 'Automatic', 39.0, 11.0, 'Round', 'Steel','Sapphire Crystal', 'Steel', 'Folding', 'Men', \n",
    " 200.0, 2.0, 'Switzerland', 38.0, 26.0, 0, 'No Bezel', 0, 28800.0, 'No coating',\n",
    "1, 1, 0, 0, 0, 0, 0, 0, 0, 0, 0, 0, 0, 0, 0, 0, 0, 0, 0, 0, 0, 0, 0, 1, 0]], columns=cols)"
   ]
  },
  {
   "cell_type": "code",
   "execution_count": 14,
   "id": "27a83acc",
   "metadata": {},
   "outputs": [
    {
     "data": {
      "text/plain": [
       "array([12.28554115])"
      ]
     },
     "execution_count": 14,
     "metadata": {},
     "output_type": "execute_result"
    }
   ],
   "source": [
    "model.predict(test_input)"
   ]
  },
  {
   "cell_type": "code",
   "execution_count": 21,
   "id": "bf9b85f1",
   "metadata": {},
   "outputs": [],
   "source": [
    "import mlflow\n",
    "import pytest\n",
    "from mlflow.tracking import MlflowClient\n",
    "\n",
    "# Set the tracking URI for your MLflow server\n",
    "mlflow.set_tracking_uri(\"http://127.0.0.1:5000\")"
   ]
  },
  {
   "cell_type": "code",
   "execution_count": 2,
   "id": "b60b46d5",
   "metadata": {},
   "outputs": [],
   "source": [
    "client = MlflowClient()\n",
    "\n",
    "# Search for all runs of the model\n",
    "runs = mlflow.search_runs(experiment_names=[\"pipeline-runs\"])\n",
    "\n",
    "# Sort runs by the start time (most recent first)\n",
    "# runs = sorted(runs, key=lambda x: x.start_time, reverse=True)"
   ]
  },
  {
   "cell_type": "code",
   "execution_count": 28,
   "id": "a6534712",
   "metadata": {},
   "outputs": [],
   "source": [
    "df = pd.read_csv(\"../artifacts/data/processed/test.csv\")\n",
    "X = df.drop('price', axis=1)\n",
    "y = np.log1p(df['price'])\n",
    "# return X, Y"
   ]
  },
  {
   "cell_type": "code",
   "execution_count": 29,
   "id": "2d8f0f9a",
   "metadata": {},
   "outputs": [
    {
     "data": {
      "text/html": [
       "<div>\n",
       "<style scoped>\n",
       "    .dataframe tbody tr th:only-of-type {\n",
       "        vertical-align: middle;\n",
       "    }\n",
       "\n",
       "    .dataframe tbody tr th {\n",
       "        vertical-align: top;\n",
       "    }\n",
       "\n",
       "    .dataframe thead th {\n",
       "        text-align: right;\n",
       "    }\n",
       "</style>\n",
       "<table border=\"1\" class=\"dataframe\">\n",
       "  <thead>\n",
       "    <tr style=\"text-align: right;\">\n",
       "      <th></th>\n",
       "      <th>Brand</th>\n",
       "      <th>Movement</th>\n",
       "      <th>Case Size</th>\n",
       "      <th>Case Thickness</th>\n",
       "      <th>Case Shape</th>\n",
       "      <th>Case Material</th>\n",
       "      <th>Glass Material</th>\n",
       "      <th>Strap Material</th>\n",
       "      <th>Clasp Type</th>\n",
       "      <th>Gender</th>\n",
       "      <th>...</th>\n",
       "      <th>feature_Moon Phase</th>\n",
       "      <th>feature_Date</th>\n",
       "      <th>feature_Small Seconds</th>\n",
       "      <th>feature_Triple Time-zone</th>\n",
       "      <th>feature_Month</th>\n",
       "      <th>feature_Perpetual Calendar</th>\n",
       "      <th>feature_Tourbillon</th>\n",
       "      <th>feature_Flying Tourbillon</th>\n",
       "      <th>feature_Day-Night Indicator</th>\n",
       "      <th>feature_Retrograde</th>\n",
       "    </tr>\n",
       "  </thead>\n",
       "  <tbody>\n",
       "    <tr>\n",
       "      <th>0</th>\n",
       "      <td>TAG Heuer</td>\n",
       "      <td>Quartz</td>\n",
       "      <td>43.0</td>\n",
       "      <td>12.400000</td>\n",
       "      <td>Round</td>\n",
       "      <td>Steel</td>\n",
       "      <td>Sapphire Crystal</td>\n",
       "      <td>Steel</td>\n",
       "      <td>Folding</td>\n",
       "      <td>Men</td>\n",
       "      <td>...</td>\n",
       "      <td>0</td>\n",
       "      <td>1</td>\n",
       "      <td>1</td>\n",
       "      <td>0</td>\n",
       "      <td>0</td>\n",
       "      <td>0</td>\n",
       "      <td>0</td>\n",
       "      <td>0</td>\n",
       "      <td>0</td>\n",
       "      <td>0</td>\n",
       "    </tr>\n",
       "    <tr>\n",
       "      <th>1</th>\n",
       "      <td>Bovet</td>\n",
       "      <td>Manual Winding</td>\n",
       "      <td>42.0</td>\n",
       "      <td>9.050000</td>\n",
       "      <td>Round</td>\n",
       "      <td>Steel</td>\n",
       "      <td>Sapphire Crystal</td>\n",
       "      <td>Leather</td>\n",
       "      <td>Tang</td>\n",
       "      <td>Men</td>\n",
       "      <td>...</td>\n",
       "      <td>0</td>\n",
       "      <td>0</td>\n",
       "      <td>1</td>\n",
       "      <td>0</td>\n",
       "      <td>0</td>\n",
       "      <td>0</td>\n",
       "      <td>0</td>\n",
       "      <td>0</td>\n",
       "      <td>0</td>\n",
       "      <td>0</td>\n",
       "    </tr>\n",
       "    <tr>\n",
       "      <th>2</th>\n",
       "      <td>Luminox</td>\n",
       "      <td>Quartz</td>\n",
       "      <td>42.0</td>\n",
       "      <td>14.000000</td>\n",
       "      <td>Round</td>\n",
       "      <td>Carbon-based</td>\n",
       "      <td>Mineral Crystal</td>\n",
       "      <td>Rubber</td>\n",
       "      <td>Tang</td>\n",
       "      <td>Men</td>\n",
       "      <td>...</td>\n",
       "      <td>0</td>\n",
       "      <td>1</td>\n",
       "      <td>0</td>\n",
       "      <td>0</td>\n",
       "      <td>0</td>\n",
       "      <td>0</td>\n",
       "      <td>0</td>\n",
       "      <td>0</td>\n",
       "      <td>0</td>\n",
       "      <td>0</td>\n",
       "    </tr>\n",
       "    <tr>\n",
       "      <th>3</th>\n",
       "      <td>Corum</td>\n",
       "      <td>Automatic</td>\n",
       "      <td>47.0</td>\n",
       "      <td>18.500000</td>\n",
       "      <td>Round</td>\n",
       "      <td>Steel</td>\n",
       "      <td>Sapphire Crystal</td>\n",
       "      <td>Rubber</td>\n",
       "      <td>Tang</td>\n",
       "      <td>Men</td>\n",
       "      <td>...</td>\n",
       "      <td>0</td>\n",
       "      <td>0</td>\n",
       "      <td>0</td>\n",
       "      <td>0</td>\n",
       "      <td>0</td>\n",
       "      <td>0</td>\n",
       "      <td>0</td>\n",
       "      <td>0</td>\n",
       "      <td>0</td>\n",
       "      <td>0</td>\n",
       "    </tr>\n",
       "    <tr>\n",
       "      <th>4</th>\n",
       "      <td>Frederique Constant</td>\n",
       "      <td>Automatic</td>\n",
       "      <td>38.5</td>\n",
       "      <td>10.670000</td>\n",
       "      <td>Round</td>\n",
       "      <td>Steel</td>\n",
       "      <td>Sapphire Crystal</td>\n",
       "      <td>Leather</td>\n",
       "      <td>Tang</td>\n",
       "      <td>Men</td>\n",
       "      <td>...</td>\n",
       "      <td>0</td>\n",
       "      <td>0</td>\n",
       "      <td>0</td>\n",
       "      <td>0</td>\n",
       "      <td>0</td>\n",
       "      <td>0</td>\n",
       "      <td>0</td>\n",
       "      <td>0</td>\n",
       "      <td>0</td>\n",
       "      <td>0</td>\n",
       "    </tr>\n",
       "    <tr>\n",
       "      <th>...</th>\n",
       "      <td>...</td>\n",
       "      <td>...</td>\n",
       "      <td>...</td>\n",
       "      <td>...</td>\n",
       "      <td>...</td>\n",
       "      <td>...</td>\n",
       "      <td>...</td>\n",
       "      <td>...</td>\n",
       "      <td>...</td>\n",
       "      <td>...</td>\n",
       "      <td>...</td>\n",
       "      <td>...</td>\n",
       "      <td>...</td>\n",
       "      <td>...</td>\n",
       "      <td>...</td>\n",
       "      <td>...</td>\n",
       "      <td>...</td>\n",
       "      <td>...</td>\n",
       "      <td>...</td>\n",
       "      <td>...</td>\n",
       "      <td>...</td>\n",
       "    </tr>\n",
       "    <tr>\n",
       "      <th>706</th>\n",
       "      <td>Longines</td>\n",
       "      <td>Quartz</td>\n",
       "      <td>32.0</td>\n",
       "      <td>11.350000</td>\n",
       "      <td>Round</td>\n",
       "      <td>Ceramic</td>\n",
       "      <td>Sapphire Crystal</td>\n",
       "      <td>G-S Hybrid</td>\n",
       "      <td>Folding</td>\n",
       "      <td>Women</td>\n",
       "      <td>...</td>\n",
       "      <td>0</td>\n",
       "      <td>1</td>\n",
       "      <td>0</td>\n",
       "      <td>0</td>\n",
       "      <td>0</td>\n",
       "      <td>0</td>\n",
       "      <td>0</td>\n",
       "      <td>0</td>\n",
       "      <td>0</td>\n",
       "      <td>0</td>\n",
       "    </tr>\n",
       "    <tr>\n",
       "      <th>707</th>\n",
       "      <td>Luminox</td>\n",
       "      <td>Quartz</td>\n",
       "      <td>44.0</td>\n",
       "      <td>12.000000</td>\n",
       "      <td>Round</td>\n",
       "      <td>Steel</td>\n",
       "      <td>Sapphire Crystal</td>\n",
       "      <td>Rubber</td>\n",
       "      <td>Others</td>\n",
       "      <td>Men</td>\n",
       "      <td>...</td>\n",
       "      <td>0</td>\n",
       "      <td>1</td>\n",
       "      <td>0</td>\n",
       "      <td>0</td>\n",
       "      <td>0</td>\n",
       "      <td>0</td>\n",
       "      <td>0</td>\n",
       "      <td>0</td>\n",
       "      <td>0</td>\n",
       "      <td>0</td>\n",
       "    </tr>\n",
       "    <tr>\n",
       "      <th>708</th>\n",
       "      <td>Rado</td>\n",
       "      <td>Automatic</td>\n",
       "      <td>42.0</td>\n",
       "      <td>11.093343</td>\n",
       "      <td>Round</td>\n",
       "      <td>Ceramic</td>\n",
       "      <td>Sapphire Crystal</td>\n",
       "      <td>Ceramic</td>\n",
       "      <td>Others</td>\n",
       "      <td>Men</td>\n",
       "      <td>...</td>\n",
       "      <td>0</td>\n",
       "      <td>1</td>\n",
       "      <td>0</td>\n",
       "      <td>0</td>\n",
       "      <td>0</td>\n",
       "      <td>0</td>\n",
       "      <td>0</td>\n",
       "      <td>0</td>\n",
       "      <td>0</td>\n",
       "      <td>0</td>\n",
       "    </tr>\n",
       "    <tr>\n",
       "      <th>709</th>\n",
       "      <td>Jacob &amp; Co.</td>\n",
       "      <td>Manual Winding</td>\n",
       "      <td>44.0</td>\n",
       "      <td>13.050000</td>\n",
       "      <td>Round</td>\n",
       "      <td>Steel</td>\n",
       "      <td>Sapphire Crystal</td>\n",
       "      <td>Rubber</td>\n",
       "      <td>Tang</td>\n",
       "      <td>Men</td>\n",
       "      <td>...</td>\n",
       "      <td>0</td>\n",
       "      <td>0</td>\n",
       "      <td>0</td>\n",
       "      <td>0</td>\n",
       "      <td>0</td>\n",
       "      <td>0</td>\n",
       "      <td>0</td>\n",
       "      <td>0</td>\n",
       "      <td>0</td>\n",
       "      <td>0</td>\n",
       "    </tr>\n",
       "    <tr>\n",
       "      <th>710</th>\n",
       "      <td>Others</td>\n",
       "      <td>Automatic</td>\n",
       "      <td>41.5</td>\n",
       "      <td>9.600000</td>\n",
       "      <td>Round</td>\n",
       "      <td>Steel</td>\n",
       "      <td>Sapphire Crystal</td>\n",
       "      <td>Leather</td>\n",
       "      <td>Folding</td>\n",
       "      <td>Men</td>\n",
       "      <td>...</td>\n",
       "      <td>0</td>\n",
       "      <td>1</td>\n",
       "      <td>0</td>\n",
       "      <td>0</td>\n",
       "      <td>0</td>\n",
       "      <td>0</td>\n",
       "      <td>0</td>\n",
       "      <td>0</td>\n",
       "      <td>0</td>\n",
       "      <td>0</td>\n",
       "    </tr>\n",
       "  </tbody>\n",
       "</table>\n",
       "<p>711 rows × 45 columns</p>\n",
       "</div>"
      ],
      "text/plain": [
       "                   Brand        Movement  Case Size  Case Thickness  \\\n",
       "0              TAG Heuer          Quartz       43.0       12.400000   \n",
       "1                  Bovet  Manual Winding       42.0        9.050000   \n",
       "2                Luminox          Quartz       42.0       14.000000   \n",
       "3                  Corum       Automatic       47.0       18.500000   \n",
       "4    Frederique Constant       Automatic       38.5       10.670000   \n",
       "..                   ...             ...        ...             ...   \n",
       "706             Longines          Quartz       32.0       11.350000   \n",
       "707              Luminox          Quartz       44.0       12.000000   \n",
       "708                 Rado       Automatic       42.0       11.093343   \n",
       "709          Jacob & Co.  Manual Winding       44.0       13.050000   \n",
       "710               Others       Automatic       41.5        9.600000   \n",
       "\n",
       "    Case Shape Case Material    Glass Material Strap Material Clasp Type  \\\n",
       "0        Round         Steel  Sapphire Crystal          Steel    Folding   \n",
       "1        Round         Steel  Sapphire Crystal        Leather       Tang   \n",
       "2        Round  Carbon-based   Mineral Crystal         Rubber       Tang   \n",
       "3        Round         Steel  Sapphire Crystal         Rubber       Tang   \n",
       "4        Round         Steel  Sapphire Crystal        Leather       Tang   \n",
       "..         ...           ...               ...            ...        ...   \n",
       "706      Round       Ceramic  Sapphire Crystal     G-S Hybrid    Folding   \n",
       "707      Round         Steel  Sapphire Crystal         Rubber     Others   \n",
       "708      Round       Ceramic  Sapphire Crystal        Ceramic     Others   \n",
       "709      Round         Steel  Sapphire Crystal         Rubber       Tang   \n",
       "710      Round         Steel  Sapphire Crystal        Leather    Folding   \n",
       "\n",
       "    Gender  ...  feature_Moon Phase  feature_Date feature_Small Seconds  \\\n",
       "0      Men  ...                   0             1                     1   \n",
       "1      Men  ...                   0             0                     1   \n",
       "2      Men  ...                   0             1                     0   \n",
       "3      Men  ...                   0             0                     0   \n",
       "4      Men  ...                   0             0                     0   \n",
       "..     ...  ...                 ...           ...                   ...   \n",
       "706  Women  ...                   0             1                     0   \n",
       "707    Men  ...                   0             1                     0   \n",
       "708    Men  ...                   0             1                     0   \n",
       "709    Men  ...                   0             0                     0   \n",
       "710    Men  ...                   0             1                     0   \n",
       "\n",
       "     feature_Triple Time-zone  feature_Month  feature_Perpetual Calendar  \\\n",
       "0                           0              0                           0   \n",
       "1                           0              0                           0   \n",
       "2                           0              0                           0   \n",
       "3                           0              0                           0   \n",
       "4                           0              0                           0   \n",
       "..                        ...            ...                         ...   \n",
       "706                         0              0                           0   \n",
       "707                         0              0                           0   \n",
       "708                         0              0                           0   \n",
       "709                         0              0                           0   \n",
       "710                         0              0                           0   \n",
       "\n",
       "    feature_Tourbillon  feature_Flying Tourbillon  \\\n",
       "0                    0                          0   \n",
       "1                    0                          0   \n",
       "2                    0                          0   \n",
       "3                    0                          0   \n",
       "4                    0                          0   \n",
       "..                 ...                        ...   \n",
       "706                  0                          0   \n",
       "707                  0                          0   \n",
       "708                  0                          0   \n",
       "709                  0                          0   \n",
       "710                  0                          0   \n",
       "\n",
       "     feature_Day-Night Indicator feature_Retrograde  \n",
       "0                              0                  0  \n",
       "1                              0                  0  \n",
       "2                              0                  0  \n",
       "3                              0                  0  \n",
       "4                              0                  0  \n",
       "..                           ...                ...  \n",
       "706                            0                  0  \n",
       "707                            0                  0  \n",
       "708                            0                  0  \n",
       "709                            0                  0  \n",
       "710                            0                  0  \n",
       "\n",
       "[711 rows x 45 columns]"
      ]
     },
     "execution_count": 29,
     "metadata": {},
     "output_type": "execute_result"
    }
   ],
   "source": [
    "X"
   ]
  },
  {
   "cell_type": "code",
   "execution_count": 32,
   "id": "7724204d",
   "metadata": {},
   "outputs": [
    {
     "data": {
      "application/vnd.jupyter.widget-view+json": {
       "model_id": "7800e4010714470b8478aac7f6abffb5",
       "version_major": 2,
       "version_minor": 0
      },
      "text/plain": [
       "Downloading artifacts:   0%|          | 0/8 [00:00<?, ?it/s]"
      ]
     },
     "metadata": {},
     "output_type": "display_data"
    },
    {
     "name": "stderr",
     "output_type": "stream",
     "text": [
      "2024/12/06 14:53:25 WARNING mlflow.utils.requirements_utils: Detected one or more mismatches between the model's dependencies and the current Python environment:\n",
      " - logging (current: 0.5.1.2, required: logging==0.4.9.6)\n",
      " - numpy (current: 1.25.2, required: numpy==1.26.4)\n",
      " - pandas (current: 2.1.3, required: pandas==2.2.3)\n",
      " - psutil (current: 5.9.0, required: psutil==6.1.0)\n",
      " - scipy (current: 1.11.2, required: scipy==1.14.1)\n",
      "To fix the mismatches, call `mlflow.pyfunc.get_model_dependencies(model_uri)` to fetch the model's environment and install dependencies using the resulting environment file.\n"
     ]
    },
    {
     "data": {
      "application/vnd.jupyter.widget-view+json": {
       "model_id": "658cef04e6b44118a89e31e0862b89e9",
       "version_major": 2,
       "version_minor": 0
      },
      "text/plain": [
       "Downloading artifacts:   0%|          | 0/8 [00:00<?, ?it/s]"
      ]
     },
     "metadata": {},
     "output_type": "display_data"
    },
    {
     "name": "stderr",
     "output_type": "stream",
     "text": [
      "2024/12/06 14:53:25 WARNING mlflow.utils.requirements_utils: Detected one or more mismatches between the model's dependencies and the current Python environment:\n",
      " - logging (current: 0.5.1.2, required: logging==0.4.9.6)\n",
      " - numpy (current: 1.25.2, required: numpy==1.26.4)\n",
      " - pandas (current: 2.1.3, required: pandas==2.2.3)\n",
      " - psutil (current: 5.9.0, required: psutil==6.1.0)\n",
      " - scipy (current: 1.11.2, required: scipy==1.14.1)\n",
      "To fix the mismatches, call `mlflow.pyfunc.get_model_dependencies(model_uri)` to fetch the model's environment and install dependencies using the resulting environment file.\n"
     ]
    },
    {
     "name": "stdout",
     "output_type": "stream",
     "text": [
      "Candidate model RMSE: 292788.113047688, MAE: 101619.75721442133, R2: 0.9297959579385638\n",
      "Champion model RMSE: 194562.67540178247, MAE: 59432.46428164642, R2: 0.9689991004892189\n"
     ]
    }
   ],
   "source": [
    "model_name = \"watch_price_predictor\"\n",
    "\n",
    "client = MlflowClient()\n",
    "\n",
    "candidate_versions = client.search_model_versions(f\"name='{model_name}' and tags.deployment_status='staging'\")\n",
    "champion_versions = client.search_model_versions(f\"name='{model_name}' and tags.deployment_status='champion'\")\n",
    "\n",
    "assert candidate_versions, \"No staging model found for deployment.\"\n",
    "candidate = candidate_versions[0]\n",
    "\n",
    "if not champion_versions:\n",
    "    assert candidate, \"No champion model found for comparison.\"\n",
    "\n",
    "    candidate_model_uri = f\"models:/{model_name}/{candidate.version}\"\n",
    "    candidate_model = mlflow.pyfunc.load_model(candidate_model_uri)\n",
    "\n",
    "    y_pred = candidate_model.predict(X)\n",
    "    y_og = np.expm1(y) \n",
    "    y_pred_og = np.expm1(y_pred)\n",
    "\n",
    "    mse = mean_squared_error(y_og, y_pred_og)\n",
    "    candidate_rmse = np.sqrt(mse)\n",
    "    candidate_mae = mean_absolute_error(y_og, y_pred_og)\n",
    "    candidate_r2 = r2_score(y_og, y_pred_og)\n",
    "\n",
    "#     assert candidate_rmse < 500000, f\"RMSE of candidate model is too high: {candidate_rmse}\"\n",
    "#     assert candidate_mae < 200000, f\"MAE of candidate model is too high: {candidate_mae}\"\n",
    "#     assert candidate_r2 > 85, f\"R2 score of candidate model is too low: {candidate_r2}\"\n",
    "#     print(f\"Candidate model meets the threshold with RMSE: {candidate_rmse}, MAE: {candidate_mae}, R2: {candidate_r2}\")\n",
    "\n",
    "else:\n",
    "    champion = champion_versions[0]\n",
    "\n",
    "    candidate_model_uri = f\"models:/{model_name}/{candidate.version}\"\n",
    "    champion_model_uri = f\"models:/{model_name}/{champion.version}\"\n",
    "\n",
    "    candidate_model = mlflow.pyfunc.load_model(candidate_model_uri)\n",
    "    champion_model = mlflow.pyfunc.load_model(champion_model_uri)\n",
    "\n",
    "    y_pred_candidate = candidate_model.predict(X)\n",
    "    y_pred_champion = champion_model.predict(X)\n",
    "\n",
    "    y_og = np.expm1(y)\n",
    "    y_pred_candidate_og = np.expm1(y_pred_candidate)\n",
    "    y_pred_champion_og = np.expm1(y_pred_champion)\n",
    "\n",
    "    mse_candidate = mean_squared_error(y_og, y_pred_candidate_og)\n",
    "    candidate_rmse = np.sqrt(mse_candidate)\n",
    "    candidate_mae = mean_absolute_error(y_og, y_pred_candidate_og)\n",
    "    candidate_r2 = r2_score(y_og, y_pred_candidate_og)\n",
    "\n",
    "    mse_champion = mean_squared_error(y_og, y_pred_champion_og)\n",
    "    champion_rmse = np.sqrt(mse_champion)\n",
    "    champion_mae = mean_absolute_error(y_og, y_pred_champion_og)\n",
    "    champion_r2 = r2_score(y_og, y_pred_champion_og)\n",
    "\n",
    "#     assert candidate_rmse < champion_rmse, f\"Candidate RMSE is higher than the champion RMSE: {candidate_rmse} > {champion_rmse}\"\n",
    "#     assert candidate_mae < champion_mae, f\"Candidate MAE is higher than the champion MAE: {candidate_mae} > {champion_mae}\"\n",
    "#     assert candidate_r2 > champion_r2, f\"Candidate R2 is lower than the champion R2: {candidate_r2} < {champion_r2}\"\n",
    "\n",
    "    print(f\"Candidate model RMSE: {candidate_rmse}, MAE: {candidate_mae}, R2: {candidate_r2}\")\n",
    "    print(f\"Champion model RMSE: {champion_rmse}, MAE: {champion_mae}, R2: {champion_r2}\")\n"
   ]
  },
  {
   "cell_type": "code",
   "execution_count": 31,
   "id": "4274e34d",
   "metadata": {},
   "outputs": [],
   "source": [
    "import mlflow.pyfunc\n",
    "import pytest\n",
    "from mlflow.tracking import MlflowClient\n",
    "import numpy as np\n",
    "import pandas as pd\n",
    "from sklearn.metrics import mean_squared_error, mean_absolute_error, r2_score"
   ]
  },
  {
   "cell_type": "code",
   "execution_count": null,
   "id": "005314fc",
   "metadata": {},
   "outputs": [],
   "source": []
  }
 ],
 "metadata": {
  "kernelspec": {
   "display_name": "Python 3 (ipykernel)",
   "language": "python",
   "name": "python3"
  },
  "language_info": {
   "codemirror_mode": {
    "name": "ipython",
    "version": 3
   },
   "file_extension": ".py",
   "mimetype": "text/x-python",
   "name": "python",
   "nbconvert_exporter": "python",
   "pygments_lexer": "ipython3",
   "version": "3.10.13"
  }
 },
 "nbformat": 4,
 "nbformat_minor": 5
}
